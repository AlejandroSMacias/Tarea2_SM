{
 "cells": [
  {
   "cell_type": "markdown",
   "metadata": {},
   "source": [
    "### Resumen de \n",
    "# 7 Razones por las que deberías de utilizar python\n",
    "\n",
    "\n",
    "Según la comunidad TIOBE, python es uno de los diez lenguajes de programación más populares del 2017. Se trata de un lenguaje de alto nivel y pude ser empleado para crear aplicaciones de GUI de escritorio, paginas y aplicaciones web, entre otras cosas. \n",
    "Las 7 razones son:\n",
    "+ Código legible y mantenible\n",
    "    > La sintasis de python permite la creación de un código simple y que no requiere de mantenimiento ni actualizaciones. Además, el uso de palabras en inglés facilita sustancialmente la programación.\n",
    "+ Programación múltiple\n",
    "    > Python es un lenguaje muy vérsatil, siendo utilizado en la proramación estructurada y también en la orientada a objetos. \n",
    "+ Compatible con muchos sistemas operativos\n",
    "    > Es posible ejecutar el mismo código en varias plataformas sin tener que volver a ejecutarlo, debido a que se trata de un lenguaje de programación interpretado.\n",
    "+ Amplia biblioteca\n",
    "    > Sus diversos modulos lo convierten en un lenguaje aún más versatil.\n",
    "+ Posibilidades en código abierto.\n",
    "    > Al ser un lenguaje de código abierto, se pueden encontrar muchas bibliotecas y más herramientras de desarrollo.\n",
    "+ Reducción de complejidad\n",
    "    > Al ser un lenguaje de uso general, pueden hacerce aplicaciones que van desde aplicaciones web y de escritorio, o bien, aplicaciones con fines cientificos. Estas pueden ser: e análisis y visualización de datos.\n",
    "+ Desarrollo basado en pruebas\n",
    "    > Es posible crear prototipos rapidamente desde el software donde fue programado."
   ]
  },
  {
   "cell_type": "code",
   "execution_count": null,
   "metadata": {},
   "outputs": [],
   "source": []
  },
  {
   "cell_type": "code",
   "execution_count": null,
   "metadata": {},
   "outputs": [],
   "source": []
  },
  {
   "cell_type": "code",
   "execution_count": null,
   "metadata": {},
   "outputs": [],
   "source": []
  }
 ],
 "metadata": {
  "kernelspec": {
   "display_name": "Python 3",
   "language": "python",
   "name": "python3"
  },
  "language_info": {
   "codemirror_mode": {
    "name": "ipython",
    "version": 3
   },
   "file_extension": ".py",
   "mimetype": "text/x-python",
   "name": "python",
   "nbconvert_exporter": "python",
   "pygments_lexer": "ipython3",
   "version": "3.8.3"
  }
 },
 "nbformat": 4,
 "nbformat_minor": 4
}
